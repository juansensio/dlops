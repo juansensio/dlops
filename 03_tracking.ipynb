{
 "cells": [
  {
   "cell_type": "markdown",
   "metadata": {},
   "source": [
    "[![Open In Colab](https://colab.research.google.com/assets/colab-badge.svg)](https://colab.research.google.com/github/juansensio/blog/blob/master/087_dlops_tracking/087_dlops_tracking.ipynb)"
   ]
  },
  {
   "cell_type": "markdown",
   "metadata": {},
   "source": [
    "# DLOps - Trackeando experimentos"
   ]
  },
  {
   "cell_type": "markdown",
   "metadata": {},
   "source": [
    "En el post anterior desarrollamos una estrategia para poder ejecutar nuestros entrenamientos a partir de archivos de configuración. Esto nos permite mantener un registro de todos los experimentos que se han realizado. Sin embargo, esto no nos permite saber si un experimento ha sido exitoso o no. Para ello necesitamos trackear las diferentes métricas que nos permiten evaluar el rendimiento de nuestros experimentos, sabiendo así cual de ellos nos da los resultados que buscamos.\n",
    "\n",
    "> Recuerda que puedes acceder al código de este post en [GitHub](https://github.com/juansensio/dlops)."
   ]
  },
  {
   "cell_type": "markdown",
   "metadata": {},
   "source": [
    "## Tensorboard"
   ]
  },
  {
   "cell_type": "markdown",
   "metadata": {},
   "source": [
    "Por defecto `Pytorch Ligthing` usa una herramienta llamada `Tensorboard` para trackear los resultados de los experimentos. Esta herramienta nos permite visualizar los resultados de los experimentos en una forma sencilla. Además, gracias a su integración con `VSCode`, podemos visualizar los resultados de los experimentos en una pestaña de nuestro editor de texto sin necesidad de cambiar de herramienta. Para ello, simplemente tenemos que activar la variable `logger` en nuestro entrenamiento.\n",
    "\n",
    "En el archivo de configuración `002.yml` simplemente añade el siguiente contenido:\n",
    "\n",
    "```\n",
    "trainer:\n",
    "  logger: True\n",
    "```\n",
    "\n",
    "Ahora podemos ejecutar el entrenamiento con el comando\n",
    "\n",
    "```\n",
    "python main.py experiments/002.yml\n",
    "```\n",
    "\n",
    "Verás que se creará una carpeta llamada `lightning_logs`, y en `VSCode` te saldrá un popup para abrir `Tensorboard`. Sino, siempre podrás abrirlo abriendo la paleta de comandos (CTRL + SHIFT + P) y escribiendo `tensorboard`. Asegúrate de seleccionar la carpeta `lightning_logs`.\n",
    "\n",
    "![](pics/tb.png)"
   ]
  },
  {
   "cell_type": "markdown",
   "metadata": {},
   "source": [
    "Tus experimentos se irán guardando de manera automática y podrás compararlos entre sí en cualquier momento. Personalmente, no me acaba de gustar `Tensorboard`, aunque es una excelente opción para visualizar los resultados de un entrenamiento de manera rápida desde el mismo editor, así que vamos a ver diferentes alternativas."
   ]
  },
  {
   "cell_type": "markdown",
   "metadata": {},
   "source": [
    "## CSV Logger"
   ]
  },
  {
   "cell_type": "markdown",
   "metadata": {},
   "source": [
    "`Pytorch Lightning` nos oferece la opción de definir otros sistemas de `loggeado`. Uno muy útil consiste en guardar los resultados de los experimentos en un archivo CSV local, que luego podemos cargar y visualizar. Para ello, vamos a modificar nuestro script de entrenamiento:"
   ]
  },
  {
   "cell_type": "code",
   "execution_count": null,
   "metadata": {},
   "outputs": [],
   "source": [
    "from src import *\n",
    "from pathlib import Path\n",
    "import pytorch_lightning as pl\n",
    "import yaml\n",
    "import sys\n",
    "\n",
    "config = {\n",
    "    'datamodule': {\n",
    "        'path': Path('dataset'),\n",
    "        'batch_size': 25\n",
    "    },\n",
    "    'trainer': {\n",
    "        'max_epochs': 10,\n",
    "        'enable_checkpointing': False,\n",
    "        'overfit_batches': 0\n",
    "    },\n",
    "    'logger': None,\n",
    "}\n",
    "\n",
    "\n",
    "def train(config):\n",
    "    dm = MNISTDataModule(**config['datamodule'])\n",
    "    module = MNISTModule(config)\n",
    "    # configure logger\n",
    "    if config['logger'] is not None:\n",
    "        config['trainer']['logger'] = getattr(pl.loggers, config['logger'])(\n",
    "            **config['logger_params'])\n",
    "    trainer = pl.Trainer(**config['trainer'])\n",
    "    trainer.fit(module, dm)\n",
    "    trainer.save_checkpoint('final.ckpt')\n",
    "\n",
    "\n",
    "if __name__ == '__main__':\n",
    "    if len(sys.argv) > 1:\n",
    "        config_file = sys.argv[1]\n",
    "        if config_file:\n",
    "            with open(config_file, 'r') as stream:\n",
    "                loaded_config = yaml.safe_load(stream)\n",
    "            deep_update(config, loaded_config)\n",
    "    print(config)\n",
    "    train(config)\n"
   ]
  },
  {
   "cell_type": "markdown",
   "metadata": {},
   "source": [
    "Y en el experimento `003.yml` añadimos el siguiente contenido:\n",
    "\n",
    "```\n",
    "logger: CSVLogger\n",
    "logger_params:\n",
    "  save_dir: logs\n",
    "  name: \"003\"\n",
    "```"
   ]
  },
  {
   "cell_type": "markdown",
   "metadata": {},
   "source": [
    "Al ejecutar el experimento se creará una carpeta `logs` en la cual tendremos otra carpeta con el nombre `003` en el que se irán guardando los logs de cada ejecución del experimento. Obviamente, puedes cambiar esto con los parámetros que quieras."
   ]
  },
  {
   "cell_type": "code",
   "execution_count": 4,
   "metadata": {},
   "outputs": [
    {
     "data": {
      "text/html": [
       "<div>\n",
       "<style scoped>\n",
       "    .dataframe tbody tr th:only-of-type {\n",
       "        vertical-align: middle;\n",
       "    }\n",
       "\n",
       "    .dataframe tbody tr th {\n",
       "        vertical-align: top;\n",
       "    }\n",
       "\n",
       "    .dataframe thead th {\n",
       "        text-align: right;\n",
       "    }\n",
       "</style>\n",
       "<table border=\"1\" class=\"dataframe\">\n",
       "  <thead>\n",
       "    <tr style=\"text-align: right;\">\n",
       "      <th></th>\n",
       "      <th>val_loss</th>\n",
       "      <th>val_acc</th>\n",
       "      <th>epoch</th>\n",
       "      <th>step</th>\n",
       "      <th>loss</th>\n",
       "      <th>acc</th>\n",
       "    </tr>\n",
       "  </thead>\n",
       "  <tbody>\n",
       "    <tr>\n",
       "      <th>0</th>\n",
       "      <td>0.401720</td>\n",
       "      <td>0.9125</td>\n",
       "      <td>0</td>\n",
       "      <td>12</td>\n",
       "      <td>NaN</td>\n",
       "      <td>NaN</td>\n",
       "    </tr>\n",
       "    <tr>\n",
       "      <th>1</th>\n",
       "      <td>0.260824</td>\n",
       "      <td>0.9000</td>\n",
       "      <td>1</td>\n",
       "      <td>25</td>\n",
       "      <td>NaN</td>\n",
       "      <td>NaN</td>\n",
       "    </tr>\n",
       "    <tr>\n",
       "      <th>2</th>\n",
       "      <td>0.195714</td>\n",
       "      <td>0.9500</td>\n",
       "      <td>2</td>\n",
       "      <td>38</td>\n",
       "      <td>NaN</td>\n",
       "      <td>NaN</td>\n",
       "    </tr>\n",
       "    <tr>\n",
       "      <th>3</th>\n",
       "      <td>NaN</td>\n",
       "      <td>NaN</td>\n",
       "      <td>3</td>\n",
       "      <td>49</td>\n",
       "      <td>0.190343</td>\n",
       "      <td>0.88</td>\n",
       "    </tr>\n",
       "    <tr>\n",
       "      <th>4</th>\n",
       "      <td>0.174783</td>\n",
       "      <td>0.9375</td>\n",
       "      <td>3</td>\n",
       "      <td>51</td>\n",
       "      <td>NaN</td>\n",
       "      <td>NaN</td>\n",
       "    </tr>\n",
       "    <tr>\n",
       "      <th>5</th>\n",
       "      <td>0.158768</td>\n",
       "      <td>0.9625</td>\n",
       "      <td>4</td>\n",
       "      <td>64</td>\n",
       "      <td>NaN</td>\n",
       "      <td>NaN</td>\n",
       "    </tr>\n",
       "    <tr>\n",
       "      <th>6</th>\n",
       "      <td>0.160096</td>\n",
       "      <td>0.9375</td>\n",
       "      <td>5</td>\n",
       "      <td>77</td>\n",
       "      <td>NaN</td>\n",
       "      <td>NaN</td>\n",
       "    </tr>\n",
       "    <tr>\n",
       "      <th>7</th>\n",
       "      <td>0.154801</td>\n",
       "      <td>0.9375</td>\n",
       "      <td>6</td>\n",
       "      <td>90</td>\n",
       "      <td>NaN</td>\n",
       "      <td>NaN</td>\n",
       "    </tr>\n",
       "    <tr>\n",
       "      <th>8</th>\n",
       "      <td>NaN</td>\n",
       "      <td>NaN</td>\n",
       "      <td>7</td>\n",
       "      <td>99</td>\n",
       "      <td>0.182063</td>\n",
       "      <td>0.92</td>\n",
       "    </tr>\n",
       "    <tr>\n",
       "      <th>9</th>\n",
       "      <td>0.153115</td>\n",
       "      <td>0.9500</td>\n",
       "      <td>7</td>\n",
       "      <td>103</td>\n",
       "      <td>NaN</td>\n",
       "      <td>NaN</td>\n",
       "    </tr>\n",
       "    <tr>\n",
       "      <th>10</th>\n",
       "      <td>0.153973</td>\n",
       "      <td>0.9500</td>\n",
       "      <td>8</td>\n",
       "      <td>116</td>\n",
       "      <td>NaN</td>\n",
       "      <td>NaN</td>\n",
       "    </tr>\n",
       "    <tr>\n",
       "      <th>11</th>\n",
       "      <td>0.149672</td>\n",
       "      <td>0.9500</td>\n",
       "      <td>9</td>\n",
       "      <td>129</td>\n",
       "      <td>NaN</td>\n",
       "      <td>NaN</td>\n",
       "    </tr>\n",
       "  </tbody>\n",
       "</table>\n",
       "</div>"
      ],
      "text/plain": [
       "    val_loss  val_acc  epoch  step      loss   acc\n",
       "0   0.401720   0.9125      0    12       NaN   NaN\n",
       "1   0.260824   0.9000      1    25       NaN   NaN\n",
       "2   0.195714   0.9500      2    38       NaN   NaN\n",
       "3        NaN      NaN      3    49  0.190343  0.88\n",
       "4   0.174783   0.9375      3    51       NaN   NaN\n",
       "5   0.158768   0.9625      4    64       NaN   NaN\n",
       "6   0.160096   0.9375      5    77       NaN   NaN\n",
       "7   0.154801   0.9375      6    90       NaN   NaN\n",
       "8        NaN      NaN      7    99  0.182063  0.92\n",
       "9   0.153115   0.9500      7   103       NaN   NaN\n",
       "10  0.153973   0.9500      8   116       NaN   NaN\n",
       "11  0.149672   0.9500      9   129       NaN   NaN"
      ]
     },
     "execution_count": 4,
     "metadata": {},
     "output_type": "execute_result"
    }
   ],
   "source": [
    "import pandas as pd \n",
    "\n",
    "logs = pd.read_csv('logs/003/version_0/metrics.csv')\n",
    "\n",
    "logs"
   ]
  },
  {
   "cell_type": "code",
   "execution_count": 15,
   "metadata": {},
   "outputs": [
    {
     "data": {
      "image/png": "[encoded data removed]",
      "text/plain": [
       "<Figure size 432x216 with 2 Axes>"
      ]
     },
     "metadata": {
      "needs_background": "light"
     },
     "output_type": "display_data"
    }
   ],
   "source": [
    "import matplotlib.pyplot as plt\n",
    "\n",
    "fig = plt.figure(figsize=(6, 3))\n",
    "ax = plt.subplot(1,2,1)\n",
    "logs['val_loss'].dropna().plot(ax=ax)\n",
    "logs['loss'].dropna().plot(ax=ax)\n",
    "ax.legend(['val_loss', 'loss'])\n",
    "ax.grid(True)\n",
    "ax = plt.subplot(1,2,2)\n",
    "logs['val_acc'].dropna().plot(ax=ax)\n",
    "logs['acc'].dropna().plot(ax=ax)\n",
    "ax.legend(['val_acc', 'acc'])\n",
    "ax.grid(True)\n",
    "plt.tight_layout()\n",
    "plt.show()"
   ]
  },
  {
   "cell_type": "markdown",
   "metadata": {},
   "source": [
    "Esto es muy útil cuando se trabaja de manera aislada en local, sin embargo si trabajas de manera colaborativa poder tener los logs en la nube y accessibles a través de internet es mucho mejor. "
   ]
  },
  {
   "cell_type": "markdown",
   "metadata": {},
   "source": [
    "## Weights and Biases"
   ]
  },
  {
   "cell_type": "markdown",
   "metadata": {},
   "source": [
    "Mi opción favorita para `trackear` experimentos es [Weights and Biases](https://wandb.ai/site). Este servicio ofrece una interfaz gráfica intuitiva y personalizable que te será muy útil a la hora de visualizar y compartir los resultados de los experimentos, sobretodo si trabajas en equipo. Para ellos, puedes usar el experimento `004.yml`.\n",
    "\n",
    "```\n",
    "logger: WandbLogger\n",
    "logger_params:\n",
    "  project: dlops-mnist\n",
    "  name: \"004\"\n",
    "```\n",
    "\n",
    "> Para poder usar este logger tendrás que instalar el paquete `wandb` con el comando `pip install wandb`. La primera vez que lo uses deberás añadir tu API key, que puedes encontrar [aquí](https://wandb.ai/settings) una vez te hayas registrado."
   ]
  },
  {
   "cell_type": "markdown",
   "metadata": {},
   "source": [
    "![](pics/wandb.png)"
   ]
  },
  {
   "cell_type": "markdown",
   "metadata": {},
   "source": [
    "A medida que vayas ejecutando experimentos podrás ir configurando las visualizaciones que te sean más útiles. Además, la herramienta es muy potente y te permite visualizar cosas tan interesantes como, por ejemplo, matrices de confusión, curvas ROC, etc. Para ello, usaremos la callback que puedes encontrar en el archivo `utils.py`, ejeccutando el experimento `005.yml`\n",
    "\n",
    "```\n",
    "logger: WandbLogger\n",
    "logger_params:\n",
    "  project: dlops-mnist\n",
    "  name: \"005\"\n",
    "callbacks:\n",
    "  - name: WandBCallback\n",
    "    lib: src.utils\n",
    "    params:\n",
    "      labels:\n",
    "        - \"no 3\"\n",
    "        - \"3\"\n",
    "```\n",
    "\n",
    "Y modificando el `script` de entrenamiento para usar `callbacks`."
   ]
  },
  {
   "cell_type": "code",
   "execution_count": null,
   "metadata": {},
   "outputs": [],
   "source": [
    "from src import *\n",
    "from pathlib import Path\n",
    "import pytorch_lightning as pl\n",
    "import yaml\n",
    "import sys\n",
    "import importlib\n",
    "\n",
    "\n",
    "config = {\n",
    "    'datamodule': {\n",
    "        'path': Path('dataset'),\n",
    "        'batch_size': 25\n",
    "    },\n",
    "    'trainer': {\n",
    "        'max_epochs': 10,\n",
    "        'enable_checkpointing': False,\n",
    "        'overfit_batches': 0\n",
    "    },\n",
    "    'logger': None,\n",
    "    'callbacks': None\n",
    "}\n",
    "\n",
    "\n",
    "def train(config):\n",
    "    dm = MNISTDataModule(**config['datamodule'])\n",
    "    module = MNISTModule(config)\n",
    "    # configure logger\n",
    "    if config['logger'] is not None:\n",
    "        if config['logger'] == 'WandbLogger':\n",
    "            config['trainer']['logger'] = getattr(pl.loggers, config['logger'])(\n",
    "                **config['logger_params'], config=config)\n",
    "        else:\n",
    "            config['trainer']['logger'] = getattr(\n",
    "                pl.loggers, config['logger'])(**config['logger_params'])\n",
    "    # configure callbacks\n",
    "    if config['callbacks'] is not None:\n",
    "        callbacks = []\n",
    "        for callback in config['callbacks']:\n",
    "            if callback['name'] == 'WandBCallback':\n",
    "                dm.setup()\n",
    "                callback['params']['dl'] = dm.val_dataloader()\n",
    "            cb = getattr(importlib.import_module(callback['lib']), callback['name'])(\n",
    "                **callback['params'])\n",
    "            callbacks.append(cb)\n",
    "            config['trainer']['callbacks'] = callbacks\n",
    "    # train\n",
    "    trainer = pl.Trainer(**config['trainer'])\n",
    "    trainer.fit(module, dm)\n",
    "    trainer.save_checkpoint('final.ckpt')\n",
    "\n",
    "\n",
    "if __name__ == '__main__':\n",
    "    if len(sys.argv) > 1:\n",
    "        config_file = sys.argv[1]\n",
    "        if config_file:\n",
    "            with open(config_file, 'r') as stream:\n",
    "                loaded_config = yaml.safe_load(stream)\n",
    "            deep_update(config, loaded_config)\n",
    "    print(config)\n",
    "    train(config)\n"
   ]
  },
  {
   "cell_type": "markdown",
   "metadata": {},
   "source": [
    "![](pics/roc.png)"
   ]
  },
  {
   "cell_type": "markdown",
   "metadata": {},
   "source": [
    "## Guardar los modelos"
   ]
  },
  {
   "cell_type": "markdown",
   "metadata": {},
   "source": [
    "Lo último que necesitamos es ir guardando los mejores modelos a medida que vayamos ejecutando experimentos. Para ello, podemos usar la callback `ModelCheckpoint`, como puedes ver en el experimento `006.yml`.\n",
    "\n",
    "```\n",
    "logger: WandbLogger\n",
    "logger_params:\n",
    "  project: dlops-mnist\n",
    "  name: \"006\"\n",
    "callbacks:\n",
    "  - name: WandBCallback\n",
    "    lib: src.utils\n",
    "    params:\n",
    "      labels:\n",
    "        - \"no 3\"\n",
    "        - \"3\"\n",
    "  - name: ModelCheckpoint\n",
    "    lib: pytorch_lightning.callbacks\n",
    "    params:\n",
    "      dirpath: checkpoints\n",
    "      filename: \"006\"\n",
    "      save_top_k: 1\n",
    "      monitor: val_loss\n",
    "      mode: min\n",
    "\n",
    "trainer:\n",
    "  enable_checkpointing: True\n",
    "```\n"
   ]
  },
  {
   "cell_type": "markdown",
   "metadata": {},
   "source": [
    "Habiendo modificado el script de entrenamiento de la siguiente manera:"
   ]
  },
  {
   "cell_type": "code",
   "execution_count": null,
   "metadata": {},
   "outputs": [],
   "source": [
    "from src import *\n",
    "from pathlib import Path\n",
    "import pytorch_lightning as pl\n",
    "import yaml\n",
    "import sys\n",
    "import importlib\n",
    "\n",
    "\n",
    "config = {\n",
    "    'datamodule': {\n",
    "        'path': Path('dataset'),\n",
    "        'batch_size': 25\n",
    "    },\n",
    "    'trainer': {\n",
    "        'max_epochs': 10,\n",
    "        'enable_checkpointing': False,\n",
    "        'overfit_batches': 0\n",
    "    },\n",
    "    'logger': None,\n",
    "    'callbacks': None\n",
    "}\n",
    "\n",
    "\n",
    "def train(config):\n",
    "    dm = MNISTDataModule(**config['datamodule'])\n",
    "    module = MNISTModule(config)\n",
    "    # configure logger\n",
    "    if config['logger'] is not None:\n",
    "        if config['logger'] == 'WandbLogger':\n",
    "            config['trainer']['logger'] = getattr(pl.loggers, config['logger'])(\n",
    "                **config['logger_params'], config=config)\n",
    "        else:\n",
    "            config['trainer']['logger'] = getattr(\n",
    "                pl.loggers, config['logger'])(**config['logger_params'])\n",
    "    # configure callbacks\n",
    "    if config['callbacks'] is not None:\n",
    "        callbacks = []\n",
    "        for callback in config['callbacks']:\n",
    "            if callback['name'] == 'WandBCallback':\n",
    "                dm.setup()\n",
    "                callback['params']['dl'] = dm.val_dataloader()\n",
    "            elif callback['name'] == 'ModelCheckpoint':\n",
    "                callback['params']['filename'] = f'{callback[\"params\"][\"filename\"]}-{{val_loss:.5f}}-{{epoch}}'\n",
    "            cb = getattr(importlib.import_module(callback['lib']), callback['name'])(\n",
    "                **callback['params'])\n",
    "            callbacks.append(cb)\n",
    "            config['trainer']['callbacks'] = callbacks\n",
    "    # train\n",
    "    trainer = pl.Trainer(**config['trainer'])\n",
    "    trainer.fit(module, dm)\n",
    "    trainer.save_checkpoint('checkpoints/final.ckpt')\n",
    "\n",
    "\n",
    "if __name__ == '__main__':\n",
    "    if len(sys.argv) > 1:\n",
    "        config_file = sys.argv[1]\n",
    "        if config_file:\n",
    "            with open(config_file, 'r') as stream:\n",
    "                loaded_config = yaml.safe_load(stream)\n",
    "            deep_update(config, loaded_config)\n",
    "    print(config)\n",
    "    train(config)\n"
   ]
  },
  {
   "cell_type": "markdown",
   "metadata": {},
   "source": [
    "Ahora podrás acceder en cualquier momento al mejor medelo encontrado de cada experimento, ya se para seguir entrenando a partir de ese `checkpoint` o para exportarlo y ponerlo en producción (lo cual veremos en los siguientes posts)."
   ]
  },
  {
   "cell_type": "code",
   "execution_count": 19,
   "metadata": {},
   "outputs": [],
   "source": [
    "from src import *\n",
    "\n",
    "module = MNISTModule.load_from_checkpoint('checkpoints/006-val_loss=0.14715-epoch=7.ckpt')\n",
    "dm = MNISTDataModule(**module.hparams['datamodule'])\n",
    "dm.setup()"
   ]
  },
  {
   "cell_type": "code",
   "execution_count": 25,
   "metadata": {},
   "outputs": [
    {
     "data": {
      "text/plain": [
       "0.949999988079071"
      ]
     },
     "execution_count": 25,
     "metadata": {},
     "output_type": "execute_result"
    }
   ],
   "source": [
    "import torch \n",
    "\n",
    "module.eval()\n",
    "with torch.no_grad():\n",
    "    preds, labels = torch.tensor([]), torch.tensor([])\n",
    "    for imgs, _labels in dm.val_dataloader():\n",
    "        outputs = module.predict(imgs) > 0.5\n",
    "        preds = torch.cat([preds, outputs.cpu().long()])\n",
    "        labels = torch.cat([labels, _labels])\n",
    "\n",
    "acc = (preds == labels).float().mean()\n",
    "acc.item()"
   ]
  }
 ],
 "metadata": {
  "interpreter": {
   "hash": "74dbfc52f168b3071122cf9c0781887d6121c12f9c1b29bca56ce221bccb2a07"
  },
  "kernelspec": {
   "display_name": "Python 3.9.5 ('base')",
   "language": "python",
   "name": "python3"
  },
  "language_info": {
   "codemirror_mode": {
    "name": "ipython",
    "version": 3
   },
   "file_extension": ".py",
   "mimetype": "text/x-python",
   "name": "python",
   "nbconvert_exporter": "python",
   "pygments_lexer": "ipython3",
   "version": "3.8.12"
  },
  "orig_nbformat": 4
 },
 "nbformat": 4,
 "nbformat_minor": 2
}
