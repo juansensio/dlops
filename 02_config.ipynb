{
 "cells": [
  {
   "cell_type": "markdown",
   "metadata": {},
   "source": [
    "[![Open In Colab](https://colab.research.google.com/assets/colab-badge.svg)](https://colab.research.google.com/github/juansensio/blog/blob/master/086_dlops_config/086_dlops_config.ipynb)"
   ]
  },
  {
   "cell_type": "markdown",
   "metadata": {},
   "source": [
    "# DLOps - Configuración"
   ]
  },
  {
   "cell_type": "markdown",
   "metadata": {},
   "source": [
    "Seguimos en nuesto viaje a través del mundo del DLOps. Si bien en el [post](https://juansensio.com/blog/087_dlops_intro) anterior vimos qué es el DLOps y cómo podemos versionar datasets, ahora es el turno de entrenar nuestros primeros modelos. Para ello usaremos la librería de [Pytorch Lightning](https://pytorch-lightning.readthedocs.io/en/latest/), una librería de código abierto que nos permite entrenar modelos por encima de [Pytorch](https://pytorch.org/) ofreciendo muchísima funcionalidad extra que nos hará la vida más fácil a la hora de entrenar y manejar nuestros modelos.\n",
    "\n",
    "> En este post no aprenderemos a usar `Pytorch Ligthning` ya que esto lo hemos visto en este mismo blog en posts anteriores. Si no conoces esta herramienta, te aconsejo que primero le eches un vistazo a los posts anteriores."
   ]
  },
  {
   "cell_type": "markdown",
   "metadata": {},
   "source": [
    "## Primer entrenamiento"
   ]
  },
  {
   "cell_type": "markdown",
   "metadata": {},
   "source": [
    "El siguiente código nos permite entrenar un primer modelo con el dataset MNIST que desarrollamos en el post anterior. Como vimos, empezaremos haciendo un clasificador binario sencillo que detecte simplemente el dígito 3 (más adelante usaremos todo el dataset para clasificación multiclase, aprendiendo por el camino como generar nuevas versiones del dataset y recetas de entrenamiento). El modelo que usaremos será un Perceptrón Multicapa sencillo."
   ]
  },
  {
   "cell_type": "code",
   "execution_count": 9,
   "metadata": {},
   "outputs": [],
   "source": [
    "import pytorch_lightning as pl \n",
    "from torch.utils.data import Dataset, DataLoader\n",
    "from skimage.io import imread\n",
    "import torch \n",
    "import pandas as pd\n",
    "from glob import glob\n",
    "\n",
    "class MSNITDataset(Dataset):\n",
    "    def __init__(self, images, labels):\n",
    "        self.images = images\n",
    "        self.labels = labels\n",
    "    def __len__(self):\n",
    "        return len(self.images)\n",
    "    def __getitem__(self, idx):\n",
    "        img = imread(self.images[idx])\n",
    "        return torch.from_numpy(img), self.labels[idx]\n",
    "\n",
    "class MNISTDataModule(pl.LightningDataModule):\n",
    "    def __init__(self, path, batch_size):\n",
    "        super().__init__()\n",
    "        self.path = path\n",
    "        self.batch_size = batch_size\n",
    "    def generate_df(self, l1, l2):\n",
    "        return pd.DataFrame({\n",
    "            'image': l1 + l2, \n",
    "            'label': [1] * len(l1) + [0] * len(l2)\n",
    "        })\n",
    "    def setup(self, stage = None):\n",
    "        train_3 = glob(str(self.path / 'train' / '3' / '*.png'))\n",
    "        train_no3 = glob(str(self.path / 'train' / 'no3' / '*.png'))\n",
    "        self.train_df = self.generate_df(train_3, train_no3)\n",
    "        test_3 = glob(str(self.path / 'test' / '3' / '*.png'))\n",
    "        test_no3 = glob(str(self.path / 'test' / 'no3' / '*.png'))\n",
    "        self.test_df = self.generate_df(test_3, test_no3)\n",
    "        self.train_ds = MSNITDataset(self.train_df.image.values, self.train_df.label.values)\n",
    "        self.test_ds = MSNITDataset(self.test_df.image.values, self.test_df.label.values)\n",
    "    def train_dataloader(self):\n",
    "        return DataLoader(self.train_ds, shuffle=True, batch_size=self.batch_size)\n",
    "    def val_dataloader(self, batch_size=None, shuffle=False):\n",
    "        return DataLoader(\n",
    "            self.test_ds, \n",
    "            batch_size=self.batch_size if batch_size is None else batch_size,\n",
    "            shuffle=shuffle\n",
    "        )\n"
   ]
  },
  {
   "cell_type": "code",
   "execution_count": 10,
   "metadata": {},
   "outputs": [
    {
     "data": {
      "text/plain": [
       "(torch.Size([25, 28, 28]),\n",
       " torch.uint8,\n",
       " tensor(255, dtype=torch.uint8),\n",
       " tensor(0, dtype=torch.uint8),\n",
       " torch.Size([25]))"
      ]
     },
     "execution_count": 10,
     "metadata": {},
     "output_type": "execute_result"
    }
   ],
   "source": [
    "from pathlib import Path\n",
    "\n",
    "path = Path('dataset')\n",
    "\n",
    "dm = MNISTDataModule(path, batch_size=25)\n",
    "dm.setup()\n",
    "\n",
    "imgs, labels = next(iter(dm.train_dataloader()))\n",
    "\n",
    "imgs.shape, imgs.dtype, imgs.max(), imgs.min(), labels.shape"
   ]
  },
  {
   "cell_type": "code",
   "execution_count": 11,
   "metadata": {},
   "outputs": [
    {
     "data": {
      "image/png": "[encoded data removed]",
      "text/plain": [
       "<Figure size 432x288 with 25 Axes>"
      ]
     },
     "metadata": {
      "needs_background": "light"
     },
     "output_type": "display_data"
    }
   ],
   "source": [
    "import matplotlib.pyplot as plt\n",
    "\n",
    "r, c = 5, 5 \n",
    "fig, axs = plt.subplots(r, c)\n",
    "imgs, labels = next(iter(dm.train_dataloader()))\n",
    "for i in range(r):\n",
    "    for j in range(c):\n",
    "        axs[i, j].imshow(imgs[i * c + j], cmap='gray')\n",
    "        axs[i, j].set_title(labels[i * c + j].item())\n",
    "        axs[i, j].axis('off')\n",
    "plt.tight_layout()\n",
    "plt.show()"
   ]
  },
  {
   "cell_type": "code",
   "execution_count": 12,
   "metadata": {},
   "outputs": [],
   "source": [
    "import torch.nn as nn\n",
    "import torch.nn.functional as F\n",
    "\n",
    "\n",
    "class MNISTModule(pl.LightningModule):\n",
    "    def __init__(self):\n",
    "        super().__init__()\n",
    "        self.mlp = nn.Sequential(\n",
    "            nn.Linear(28 * 28, 100),\n",
    "            nn.ReLU(),\n",
    "            nn.Linear(100, 1)\n",
    "        )\n",
    "\n",
    "    def forward(self, x):\n",
    "        x = x.float() / 255 \n",
    "        return self.mlp(x.view(x.size(0), -1)).squeeze(-1)\n",
    "\n",
    "    def predict(self, x):\n",
    "        self.eval()\n",
    "        with torch.no_grad():\n",
    "            return torch.sigmoid(self(x))\n",
    "\n",
    "    def training_step(self, batch, batch_idx):\n",
    "        x, y = batch\n",
    "        y_hat = self(x)\n",
    "        loss = F.binary_cross_entropy_with_logits(y_hat, y.float())\n",
    "        preds = torch.sigmoid(y_hat) > 0.5\n",
    "        acc = (preds.long() == y).float().mean()\n",
    "        self.log('acc', acc, prog_bar=True)\n",
    "        return loss\n",
    "\n",
    "    def validation_step(self, batch, batch_idx):\n",
    "        x, y = batch\n",
    "        y_hat = self(x)\n",
    "        loss = F.binary_cross_entropy_with_logits(y_hat, y.float())\n",
    "        preds = torch.sigmoid(y_hat) > 0.5\n",
    "        acc = (preds.long() == y).float().mean()\n",
    "        self.log('val_loss', loss, prog_bar=True)\n",
    "        self.log('val_acc', acc, prog_bar=True)\n",
    "\n",
    "    def configure_optimizers(self):\n",
    "        return torch.optim.Adam(self.parameters())"
   ]
  },
  {
   "cell_type": "code",
   "execution_count": 13,
   "metadata": {},
   "outputs": [
    {
     "data": {
      "text/plain": [
       "MNISTModule(\n",
       "  (mlp): Sequential(\n",
       "    (0): Linear(in_features=784, out_features=100, bias=True)\n",
       "    (1): ReLU()\n",
       "    (2): Linear(in_features=100, out_features=1, bias=True)\n",
       "  )\n",
       ")"
      ]
     },
     "execution_count": 13,
     "metadata": {},
     "output_type": "execute_result"
    }
   ],
   "source": [
    "module = MNISTModule()\n",
    "module"
   ]
  },
  {
   "cell_type": "code",
   "execution_count": 14,
   "metadata": {},
   "outputs": [
    {
     "data": {
      "text/plain": [
       "torch.Size([25])"
      ]
     },
     "execution_count": 14,
     "metadata": {},
     "output_type": "execute_result"
    }
   ],
   "source": [
    "output = module(imgs)\n",
    "output.shape"
   ]
  },
  {
   "cell_type": "code",
   "execution_count": 15,
   "metadata": {},
   "outputs": [
    {
     "name": "stderr",
     "output_type": "stream",
     "text": [
      "GPU available: True, used: False\n",
      "TPU available: False, using: 0 TPU cores\n",
      "IPU available: False, using: 0 IPUs\n",
      "\n",
      "  | Name | Type       | Params\n",
      "------------------------------------\n",
      "0 | mlp  | Sequential | 78.6 K\n",
      "------------------------------------\n",
      "78.6 K    Trainable params\n",
      "0         Non-trainable params\n",
      "78.6 K    Total params\n",
      "0.314     Total estimated model params size (MB)\n"
     ]
    },
    {
     "data": {
      "application/vnd.jupyter.widget-view+json": {
       "model_id": "4afeafc6619943c58482a2dd46d30693",
       "version_major": 2,
       "version_minor": 0
      },
      "text/plain": [
       "Validation sanity check: 0it [00:00, ?it/s]"
      ]
     },
     "metadata": {},
     "output_type": "display_data"
    },
    {
     "data": {
      "application/vnd.jupyter.widget-view+json": {
       "model_id": "992b00bc245d4d168913dbfbe05af3f0",
       "version_major": 2,
       "version_minor": 0
      },
      "text/plain": [
       "Training: 0it [00:00, ?it/s]"
      ]
     },
     "metadata": {},
     "output_type": "display_data"
    },
    {
     "data": {
      "application/vnd.jupyter.widget-view+json": {
       "model_id": "ba86cb069c7c4d7f955c63d5838cd6eb",
       "version_major": 2,
       "version_minor": 0
      },
      "text/plain": [
       "Validating: 0it [00:00, ?it/s]"
      ]
     },
     "metadata": {},
     "output_type": "display_data"
    },
    {
     "data": {
      "application/vnd.jupyter.widget-view+json": {
       "model_id": "0ff1f78138464879aa96983c891b3378",
       "version_major": 2,
       "version_minor": 0
      },
      "text/plain": [
       "Validating: 0it [00:00, ?it/s]"
      ]
     },
     "metadata": {},
     "output_type": "display_data"
    },
    {
     "data": {
      "application/vnd.jupyter.widget-view+json": {
       "model_id": "703a03c365b94c539cc705f4095dd178",
       "version_major": 2,
       "version_minor": 0
      },
      "text/plain": [
       "Validating: 0it [00:00, ?it/s]"
      ]
     },
     "metadata": {},
     "output_type": "display_data"
    },
    {
     "data": {
      "application/vnd.jupyter.widget-view+json": {
       "model_id": "132df2c2193741fdaa852d1efa644973",
       "version_major": 2,
       "version_minor": 0
      },
      "text/plain": [
       "Validating: 0it [00:00, ?it/s]"
      ]
     },
     "metadata": {},
     "output_type": "display_data"
    },
    {
     "data": {
      "application/vnd.jupyter.widget-view+json": {
       "model_id": "9efb91ee5b77449696f0075089051caa",
       "version_major": 2,
       "version_minor": 0
      },
      "text/plain": [
       "Validating: 0it [00:00, ?it/s]"
      ]
     },
     "metadata": {},
     "output_type": "display_data"
    },
    {
     "data": {
      "application/vnd.jupyter.widget-view+json": {
       "model_id": "de2b404f1cab41b1b47ba317bb562bdc",
       "version_major": 2,
       "version_minor": 0
      },
      "text/plain": [
       "Validating: 0it [00:00, ?it/s]"
      ]
     },
     "metadata": {},
     "output_type": "display_data"
    },
    {
     "data": {
      "application/vnd.jupyter.widget-view+json": {
       "model_id": "a5be179a61584225bd9dcf4937e77edc",
       "version_major": 2,
       "version_minor": 0
      },
      "text/plain": [
       "Validating: 0it [00:00, ?it/s]"
      ]
     },
     "metadata": {},
     "output_type": "display_data"
    },
    {
     "data": {
      "application/vnd.jupyter.widget-view+json": {
       "model_id": "a0702564b3ef4db7b231d0e67a8ece3a",
       "version_major": 2,
       "version_minor": 0
      },
      "text/plain": [
       "Validating: 0it [00:00, ?it/s]"
      ]
     },
     "metadata": {},
     "output_type": "display_data"
    },
    {
     "data": {
      "application/vnd.jupyter.widget-view+json": {
       "model_id": "d7cd57463a884065bae6e3dba2571cde",
       "version_major": 2,
       "version_minor": 0
      },
      "text/plain": [
       "Validating: 0it [00:00, ?it/s]"
      ]
     },
     "metadata": {},
     "output_type": "display_data"
    },
    {
     "data": {
      "application/vnd.jupyter.widget-view+json": {
       "model_id": "cb8dc6ebc2b342be81bffbbb35e4de3d",
       "version_major": 2,
       "version_minor": 0
      },
      "text/plain": [
       "Validating: 0it [00:00, ?it/s]"
      ]
     },
     "metadata": {},
     "output_type": "display_data"
    }
   ],
   "source": [
    "dm = MNISTDataModule(path, batch_size=25)\n",
    "module = MNISTModule()\n",
    "trainer = pl.Trainer(\n",
    "    max_epochs=10,\n",
    "    logger=None,\n",
    "    enable_checkpointing=False,\n",
    "    # overfit_batches=1,\n",
    ")\n",
    "trainer.fit(module, dm)"
   ]
  },
  {
   "cell_type": "markdown",
   "metadata": {},
   "source": [
    "Tras entrenar durante 10 epochs, hemos conseguido un modelo con un 95% de precisión en los datos de test."
   ]
  },
  {
   "cell_type": "code",
   "execution_count": 16,
   "metadata": {},
   "outputs": [
    {
     "data": {
      "image/png": "[encoded data removed]",
      "text/plain": [
       "<Figure size 432x288 with 25 Axes>"
      ]
     },
     "metadata": {
      "needs_background": "light"
     },
     "output_type": "display_data"
    }
   ],
   "source": [
    "r, c = 5, 5 \n",
    "fig, axs = plt.subplots(r, c)\n",
    "imgs, labels = next(iter(dm.val_dataloader(25, True)))\n",
    "preds = module.predict(imgs) > 0.5\n",
    "for i in range(r):\n",
    "    for j in range(c):\n",
    "        axs[i, j].imshow(imgs[i * c + j], cmap='gray')\n",
    "        label = labels[i * c + j].item()\n",
    "        pred = preds[i * c + j].long().item()\n",
    "        axs[i, j].set_title(f'{label}/{pred}', color = 'green' if label == pred else 'red')\n",
    "        axs[i, j].axis('off')\n",
    "plt.tight_layout()\n",
    "plt.show()"
   ]
  },
  {
   "cell_type": "markdown",
   "metadata": {},
   "source": [
    "## Script de entrenamiento"
   ]
  },
  {
   "cell_type": "markdown",
   "metadata": {},
   "source": [
    "Si bien usar notebooks para explorar nuestros datos y probar algunos modelos, a la hora de escalar el entrenamiento querrás utilizar `scripts` de Python. Para ello te suguiero la siguiente distribución de archivo y carpetas:\n",
    "\n",
    "- `main.py`: Contiene el código de entrenamiento.\n",
    "- `src`: Contiene los archivos de código de Pytorch Lightning.\n",
    "    - `dm.py`: Contiene el LightningDataModule.\n",
    "    - `module.py`: Contiene el LightningModule.\n",
    "\n",
    "Para nuestro primer caso es suficiente, pero a medida que un proyecto vaya creciendo es posible que quieras ir añandiendo archivos adicionales en la carpeta `src`, por ejemplo para separar los datasets y modelos o añadir funcionalidades extra en un archivo `utils.py`.\n",
    "\n",
    "> Recuerda que puedes encontrar el contenido de estos archivos en el siguiente [repo](https://github.com/juansensio/dlops). \n",
    "\n",
    "A continuación puedes encontrar el código de entrenamiento (el contenido del archivo `main.py`)"
   ]
  },
  {
   "cell_type": "code",
   "execution_count": null,
   "metadata": {},
   "outputs": [],
   "source": [
    "from src import *\n",
    "from pathlib import Path\n",
    "import pytorch_lightning as pl\n",
    "\n",
    "path = Path('dataset')\n",
    "dm = MNISTDataModule(path, batch_size=25)\n",
    "module = MNISTModule()\n",
    "trainer = pl.Trainer(\n",
    "    max_epochs=10,\n",
    "    logger=None,\n",
    "    enable_checkpointing=False,\n",
    "    # overfit_batches=1,\n",
    ")\n",
    "trainer.fit(module, dm)"
   ]
  },
  {
   "cell_type": "markdown",
   "metadata": {},
   "source": [
    "Que se puede ejectuar con el comando\n",
    "\n",
    "```\n",
    "python main.py\n",
    "```\n",
    "\n",
    "Esto entrenará nuestro modelo de la misma manera que hemos visto anteriormente. Sin embargo, esto no es muy útil ya que siempre entrenaremos el mismo modelo (el cual ni siquiera estamos guardando). Necesitamos dotar de flexibilidad a nuestro `script` además de querer `trackear` todo lo que vamos haciendo. Esto lo vamos a conseguir utilizando un archivo de `configuración`."
   ]
  },
  {
   "cell_type": "markdown",
   "metadata": {},
   "source": [
    "## Archivo de configuración"
   ]
  },
  {
   "cell_type": "markdown",
   "metadata": {},
   "source": [
    "Existen diferentes alternativas a la hora de ejectuar entrenamientos con archivos de configuración. Una librería bastante utilizada es [Hydra](https://hydra.cc/docs/intro/). Tras usarla un tiempo no me acaba de convencer, así que en este post explicaré mi aproximación que es la que me funciona mejor. Aún así te recomiendo que le eches un vistazo."
   ]
  },
  {
   "cell_type": "markdown",
   "metadata": {},
   "source": [
    "### Configuración base"
   ]
  },
  {
   "cell_type": "markdown",
   "metadata": {},
   "source": [
    "Lo primer que necesitaremos es una configuración base en la que definiremos todos los parámetros por defecto que queremos usar en nuestro entrenamiento."
   ]
  },
  {
   "cell_type": "code",
   "execution_count": null,
   "metadata": {},
   "outputs": [],
   "source": [
    "config = {\n",
    "    'datamodule': {\n",
    "        'path': Path('dataset'),\n",
    "        'batch_size': 25\n",
    "    },\n",
    "    'trainer': {\n",
    "        'max_epochs': 10,\n",
    "        'logger': None,\n",
    "        'enable_checkpointing': False,\n",
    "        'overfit_batches': 0\n",
    "    }\n",
    "}\n",
    "\n",
    "dm = MNISTDataModule(**config['datamodule'])\n",
    "module = MNISTModule()\n",
    "trainer = pl.Trainer(**config['trainer'])\n",
    "trainer.fit(module, dm)"
   ]
  },
  {
   "cell_type": "markdown",
   "metadata": {},
   "source": [
    "Utilizando el operador `**` podemos pasar un diccionario de parámetros a una función.\n",
    "\n",
    "> Te recomiendo no usar parámetros por defecto en tus `modules`, ya que esto puede causar problemas a largo plazo. Es un poco más tedioso pero vale la pena para `trackear` todos los parámetros usados en el entrenamiento."
   ]
  },
  {
   "cell_type": "markdown",
   "metadata": {},
   "source": [
    "## Sobreescribir la configuración base"
   ]
  },
  {
   "cell_type": "markdown",
   "metadata": {},
   "source": [
    "Ahora lo que haremos será crear un archivo `config.yml` que contenga la configuración que queremos usar en nuestro entrenamiento. Para no tener que escribir todo el código de configuración, simplemente definiremos aquellos parámetros que queremos modificar de la configuración base. De este manera, nuestro proyecto quedará como:\n",
    "\n",
    "- `main.py`: Contiene el código de entrenamiento.\n",
    "- `config.yml`: Contiene la configuración del entrenamiento.\n",
    "- `src`: Contiene los archivos de código de Pytorch Lightning.\n",
    "    - `dm.py`: Contiene el LightningDataModule.\n",
    "    - `module.py`: Contiene el LightningModule.\n",
    "    - `utils.py`: Contiene funciones utiles.\n",
    "\n",
    "El siguiente ejemplo hará un entrenamiento durante más epochs y con un `batch_size` más grande.\n",
    "\n",
    "```\n",
    "datamodule:\n",
    "  batch_size: 32\n",
    "\n",
    "trainer:\n",
    "  max_epochs: 20\n",
    "```"
   ]
  },
  {
   "cell_type": "markdown",
   "metadata": {},
   "source": [
    "En nuestro script de entrenamiento, simplemente cargaremos la configuración del archivo, sobreescribiremos la configuración base y ejecutaremos el entrenamiento."
   ]
  },
  {
   "cell_type": "code",
   "execution_count": null,
   "metadata": {},
   "outputs": [],
   "source": [
    "from src import *\n",
    "from pathlib import Path\n",
    "import pytorch_lightning as pl\n",
    "import yaml\n",
    "import sys\n",
    "\n",
    "config = {\n",
    "    'datamodule': {\n",
    "        'path': Path('dataset'),\n",
    "        'batch_size': 25\n",
    "    },\n",
    "    'trainer': {\n",
    "        'max_epochs': 10,\n",
    "        'logger': None,\n",
    "        'enable_checkpointing': False,\n",
    "        'overfit_batches': 0\n",
    "    }\n",
    "}\n",
    "\n",
    "\n",
    "def train(config):\n",
    "    dm = MNISTDataModule(**config['datamodule'])\n",
    "    module = MNISTModule()\n",
    "    trainer = pl.Trainer(**config['trainer'])\n",
    "    trainer.fit(module, dm)\n",
    "\n",
    "\n",
    "if __name__ == '__main__':\n",
    "    if len(sys.argv) > 1:\n",
    "        config_file = sys.argv[1]\n",
    "        if config_file:\n",
    "            with open(config_file, 'r') as stream:\n",
    "                loaded_config = yaml.safe_load(stream)\n",
    "            deep_update(config, loaded_config)\n",
    "    print(config)\n",
    "    train(config)"
   ]
  },
  {
   "cell_type": "markdown",
   "metadata": {},
   "source": [
    "## Generando diferentes experimentos"
   ]
  },
  {
   "cell_type": "markdown",
   "metadata": {},
   "source": [
    "Con este `setup` ya tenemos todo lo necesario para generar diferentes experimentos. Simplemente haremos un archivo de configuración nuevo para cada experimento que queramos ejecutar. De esta manera, siempre tendremos a mano los hiperparámetros usados en un entrenamiento para poder comparar resultados y querdarnos con los mejores. Un proyecto típico tendrá la siguiente estructura:\n",
    "\n",
    "- `main.py`: Contiene el código de entrenamiento.\n",
    "- `src`: Contiene los archivos de código de Pytorch Lightning.\n",
    "    - `dm.py`: Contiene el LightningDataModule.\n",
    "    - `module.py`: Contiene el LightningModule.\n",
    "    - `utils.py`: Contiene funciones utiles.\n",
    "- `experiments`: Contiene los archivos de configuración de los experimentos.\n",
    "    - `001.yml`: Contiene la configuración del entrenamiento 1.\n",
    "    - `002.yml`: Contiene la configuración del entrenamiento 2.\n",
    "    - `003.yml`: Contiene la configuración del entrenamiento 3.\n",
    "    - ...\n",
    "    - `debug.yml`: Contiene la configuración del entrenamiento para debug.\n",
    "\n",
    "> Te aconsejo tener un archivo de `debug.yml` que te permita hacer el fit de unos batches para comprobar que tu código funciona bien.\n",
    "\n",
    "Puedes ejectuar los experimentos con el comando\n",
    "\n",
    "```\n",
    "python main.py experiments/001.yml\n",
    "```\n"
   ]
  },
  {
   "cell_type": "markdown",
   "metadata": {},
   "source": [
    "## Consejos finales"
   ]
  },
  {
   "cell_type": "markdown",
   "metadata": {},
   "source": [
    "Para sacar el máximo provecho a nuestro sistema de configuración, te recomiendo usar una funcionalidad de `Pytorch Lightning` muy útil, que es la de guardar los hiperparámetros en el mismo `checkpoint` del modelo."
   ]
  },
  {
   "cell_type": "code",
   "execution_count": null,
   "metadata": {},
   "outputs": [],
   "source": [
    "class MNISTModule(pl.LightningModule):\n",
    "    def __init__(self, hparams):\n",
    "        super().__init__()\n",
    "        self.save_hyperparameters(hparams)\n",
    "        # ..."
   ]
  },
  {
   "cell_type": "markdown",
   "metadata": {},
   "source": [
    "De esta manera, al cargar cualquier modelo que hayas entrenado con este sistema, podrás acceder a los hiperparámetros que usaste en el entrenamiento."
   ]
  },
  {
   "cell_type": "code",
   "execution_count": null,
   "metadata": {},
   "outputs": [],
   "source": [
    "# ...\n",
    "\n",
    "def train(config):\n",
    "    dm = MNISTDataModule(**config['datamodule'])\n",
    "    module = MNISTModule(config)\n",
    "    trainer = pl.Trainer(**config['trainer'])\n",
    "    trainer.fit(module, dm)\n",
    "    trainer.save_checkpoint('final.ckpt')\n",
    "\n",
    "# ..."
   ]
  },
  {
   "cell_type": "code",
   "execution_count": 1,
   "metadata": {},
   "outputs": [
    {
     "data": {
      "text/plain": [
       "\"datamodule\": {'path': PosixPath('dataset'), 'batch_size': 32}\n",
       "\"trainer\":    {'max_epochs': 10, 'logger': None, 'enable_checkpointing': True, 'overfit_batches': 0}"
      ]
     },
     "execution_count": 1,
     "metadata": {},
     "output_type": "execute_result"
    }
   ],
   "source": [
    "from src import MNISTModule\n",
    "\n",
    "module = MNISTModule.load_from_checkpoint('final.ckpt')\n",
    "module.hparams"
   ]
  },
  {
   "cell_type": "markdown",
   "metadata": {},
   "source": [
    "En el siguiente posts veremos como mejorar nuestro script de entrenamiento para añadir funcionalidades interesantes en el ciclo de DLOps tales como `trackear` los resultados de los experimentos de manera efectiva, guardar y versionar los modelos entrenados para poder ponerlos en producción."
   ]
  }
 ],
 "metadata": {
  "interpreter": {
   "hash": "74dbfc52f168b3071122cf9c0781887d6121c12f9c1b29bca56ce221bccb2a07"
  },
  "kernelspec": {
   "display_name": "Python 3.9.5 ('base')",
   "language": "python",
   "name": "python3"
  },
  "language_info": {
   "codemirror_mode": {
    "name": "ipython",
    "version": 3
   },
   "file_extension": ".py",
   "mimetype": "text/x-python",
   "name": "python",
   "nbconvert_exporter": "python",
   "pygments_lexer": "ipython3",
   "version": "3.8.12"
  },
  "orig_nbformat": 4
 },
 "nbformat": 4,
 "nbformat_minor": 2
}
